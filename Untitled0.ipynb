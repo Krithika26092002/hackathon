{
  "nbformat": 4,
  "nbformat_minor": 0,
  "metadata": {
    "colab": {
      "provenance": [],
      "authorship_tag": "ABX9TyOUHp1q48zNxeHQh3bTr32t",
      "include_colab_link": true
    },
    "kernelspec": {
      "name": "python3",
      "display_name": "Python 3"
    },
    "language_info": {
      "name": "python"
    }
  },
  "cells": [
    {
      "cell_type": "markdown",
      "metadata": {
        "id": "view-in-github",
        "colab_type": "text"
      },
      "source": [
        "<a href=\"https://colab.research.google.com/github/Krithika26092002/hackathon/blob/main/Untitled0.ipynb\" target=\"_parent\"><img src=\"https://colab.research.google.com/assets/colab-badge.svg\" alt=\"Open In Colab\"/></a>"
      ]
    },
    {
      "cell_type": "code",
      "execution_count": null,
      "metadata": {
        "id": "XCi0x5_e-Qqu",
        "colab": {
          "base_uri": "https://localhost:8080/"
        },
        "outputId": "d610569a-e48a-4ffe-9cf8-b15b411dcbc0"
      },
      "outputs": [
        {
          "output_type": "stream",
          "name": "stdout",
          "text": [
            "accuracy score: 0.95\n"
          ]
        }
      ],
      "source": [
        "# Program to analyse AUC-ROC:\n",
        "import numpy as np\n",
        "from sklearn.metrics import accuracy_score, confusion_matrix, roc_auc_score, plot_roc_curve\n",
        "n = 10000\n",
        "ratio = .95    # Change the ratio\n",
        "n_0 = int((1-ratio) * n)\n",
        "n_1 = int(ratio * n)\n",
        "y = np.array([0] * n_0 + [1] * n_1)\n",
        "# below are the probabilities obtained from a hypothetical model that always predicts the majority class\n",
        "# probability of predicting class 1 is going to be 100%\n",
        "y_proba = np.array([1]*n)\n",
        "y_prd = y_proba > .5\n",
        "print(f'accuracy score: {accuracy_score(y, y_prd)}')"
      ]
    },
    {
      "cell_type": "code",
      "source": [
        "cf_mat = confusion_matrix(y, y_prd)\n",
        "print('Confusion matrix')\n",
        "print(cf_mat)\n",
        "print(f'class 0 accuracy: {cf_mat[0][0]/n_0}')"
      ],
      "metadata": {
        "colab": {
          "base_uri": "https://localhost:8080/"
        },
        "id": "aBX75xI0U4hG",
        "outputId": "e173f922-5992-4d64-eb01-a684efe1940d"
      },
      "execution_count": null,
      "outputs": [
        {
          "output_type": "stream",
          "name": "stdout",
          "text": [
            "Confusion matrix\n",
            "[[   0  500]\n",
            " [   0 9500]]\n",
            "class 0 accuracy: 0.0\n"
          ]
        }
      ]
    },
    {
      "cell_type": "code",
      "source": [
        "print(f'class 1 accuracy: {cf_mat[1][1]/n_1}')\n",
        "fpr,tpr,_ = metrics.roc_curve(y,y_proba)\n",
        "\n",
        "#create ROC curve\n",
        "plt.plot=roc_curve(y, y_proba)\n",
        "plot1=roc_curve(y, y_proba)\n",
        "pyplot.plot(plot)\n",
        "pyplot.plot(plot1)\n",
        "#pyplot.plot(ns_fpr, ns_tpr, linestyle='--', label='No Skill')\n",
        "print(f'model 1 AUC score: {roc_auc_score(y, y_proba)}')"
      ],
      "metadata": {
        "colab": {
          "base_uri": "https://localhost:8080/",
          "height": 253
        },
        "id": "UMHrV3u_U-25",
        "outputId": "c6e01280-d5c4-452b-9bd4-804a159be1bd"
      },
      "execution_count": null,
      "outputs": [
        {
          "output_type": "stream",
          "name": "stdout",
          "text": [
            "class 1 accuracy: 1.0\n"
          ]
        },
        {
          "output_type": "error",
          "ename": "NameError",
          "evalue": "ignored",
          "traceback": [
            "\u001b[0;31m---------------------------------------------------------------------------\u001b[0m",
            "\u001b[0;31mNameError\u001b[0m                                 Traceback (most recent call last)",
            "\u001b[0;32m<ipython-input-16-accefaaa4d72>\u001b[0m in \u001b[0;36m<module>\u001b[0;34m\u001b[0m\n\u001b[1;32m      1\u001b[0m \u001b[0mprint\u001b[0m\u001b[0;34m(\u001b[0m\u001b[0;34mf'class 1 accuracy: {cf_mat[1][1]/n_1}'\u001b[0m\u001b[0;34m)\u001b[0m\u001b[0;34m\u001b[0m\u001b[0;34m\u001b[0m\u001b[0m\n\u001b[0;32m----> 2\u001b[0;31m \u001b[0mfpr\u001b[0m\u001b[0;34m,\u001b[0m\u001b[0mtpr\u001b[0m\u001b[0;34m,\u001b[0m\u001b[0m_\u001b[0m \u001b[0;34m=\u001b[0m \u001b[0mmetrics\u001b[0m\u001b[0;34m.\u001b[0m\u001b[0mroc_curve\u001b[0m\u001b[0;34m(\u001b[0m\u001b[0my\u001b[0m\u001b[0;34m,\u001b[0m\u001b[0my_proba\u001b[0m\u001b[0;34m)\u001b[0m\u001b[0;34m\u001b[0m\u001b[0;34m\u001b[0m\u001b[0m\n\u001b[0m\u001b[1;32m      3\u001b[0m \u001b[0;34m\u001b[0m\u001b[0m\n\u001b[1;32m      4\u001b[0m \u001b[0;31m#create ROC curve\u001b[0m\u001b[0;34m\u001b[0m\u001b[0;34m\u001b[0m\u001b[0;34m\u001b[0m\u001b[0m\n\u001b[1;32m      5\u001b[0m \u001b[0mplt\u001b[0m\u001b[0;34m.\u001b[0m\u001b[0mplot\u001b[0m\u001b[0;34m=\u001b[0m\u001b[0mroc_curve\u001b[0m\u001b[0;34m(\u001b[0m\u001b[0my\u001b[0m\u001b[0;34m,\u001b[0m \u001b[0my_proba\u001b[0m\u001b[0;34m)\u001b[0m\u001b[0;34m\u001b[0m\u001b[0;34m\u001b[0m\u001b[0m\n",
            "\u001b[0;31mNameError\u001b[0m: name 'metrics' is not defined"
          ]
        }
      ]
    }
  ]
}